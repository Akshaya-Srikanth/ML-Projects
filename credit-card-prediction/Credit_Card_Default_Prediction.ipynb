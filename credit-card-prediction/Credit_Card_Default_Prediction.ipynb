{
  "nbformat": 4,
  "nbformat_minor": 0,
  "metadata": {
    "colab": {
      "name": "Credit Card Default Prediction.ipynb",
      "provenance": [],
      "collapsed_sections": []
    },
    "kernelspec": {
      "name": "python3",
      "display_name": "Python 3"
    },
    "language_info": {
      "name": "python"
    }
  },
  "cells": [
    {
      "cell_type": "code",
      "execution_count": null,
      "metadata": {
        "id": "8cEjpcMBr5NJ"
      },
      "outputs": [],
      "source": [
        "from google.colab import drive \n",
        "drive.mount('/content/drive')"
      ]
    },
    {
      "cell_type": "code",
      "source": [
        "import pandas as pd\n",
        "import numpy as np\n",
        "import matplotlib\n",
        "import matplotlib.pyplot as plt\n",
        "import warnings\n",
        "warnings.filterwarnings('ignore')\n",
        "import seaborn as sns\n",
        "%matplotlib inline \n",
        "from sklearn.preprocessing import StandardScaler\n",
        "from sklearn.preprocessing import MinMaxScaler\n",
        "# import performance metrics/measures\n",
        "from sklearn.metrics import accuracy_score, precision_score, recall_score, f1_score, classification_report\n",
        "#from imblearn.under_sampling import KMeansSMOTE\n",
        "from imblearn.over_sampling import SMOTE\n",
        "from imblearn.pipeline import make_pipeline\n",
        "pd.set_option('display.max_columns', None)\n",
        "pd.set_option('display.max_rows', None)\n",
        "pd.set_option('display.max_colwidth', None)\n",
        "pd.set_option('precision', 2)"
      ],
      "metadata": {
        "id": "9897I5bPtQna"
      },
      "execution_count": null,
      "outputs": []
    },
    {
      "cell_type": "code",
      "source": [
        "df=pd.read_csv('/content/drive/MyDrive/UCI_Credit_Card.csv')"
      ],
      "metadata": {
        "id": "AQyBIO9asNmR"
      },
      "execution_count": null,
      "outputs": []
    },
    {
      "cell_type": "code",
      "source": [
        "df.head()"
      ],
      "metadata": {
        "id": "RqiJzairtjzj"
      },
      "execution_count": null,
      "outputs": []
    },
    {
      "cell_type": "markdown",
      "source": [
        "### Dataset summary"
      ],
      "metadata": {
        "id": "ywBoPEdOXT4U"
      }
    },
    {
      "cell_type": "code",
      "source": [
        "df.describe()"
      ],
      "metadata": {
        "id": "0KIemMgptwW7"
      },
      "execution_count": null,
      "outputs": []
    },
    {
      "cell_type": "markdown",
      "source": [
        "### Count of missing values"
      ],
      "metadata": {
        "id": "bSraUNW-XpKD"
      }
    },
    {
      "cell_type": "code",
      "source": [
        "df.isna().sum()"
      ],
      "metadata": {
        "id": "L4gvhbPQXX_l"
      },
      "execution_count": null,
      "outputs": []
    },
    {
      "cell_type": "markdown",
      "source": [
        "### No missing values in the data"
      ],
      "metadata": {
        "id": "INgUNkYCXw9Y"
      }
    },
    {
      "cell_type": "markdown",
      "source": [
        "### Data cleaning"
      ],
      "metadata": {
        "id": "gGqUddAEjkj8"
      }
    },
    {
      "cell_type": "markdown",
      "source": [
        "##### Drop first attribute \"ID\""
      ],
      "metadata": {
        "id": "qcPqriyOaach"
      }
    },
    {
      "cell_type": "code",
      "source": [
        "df.drop('ID', axis = 1, inplace =True)"
      ],
      "metadata": {
        "id": "FuMxhHT4aXUz"
      },
      "execution_count": null,
      "outputs": []
    },
    {
      "cell_type": "code",
      "source": [
        "df['SEX'].value_counts()"
      ],
      "metadata": {
        "id": "jgY0L8oHa1Sh"
      },
      "execution_count": null,
      "outputs": []
    },
    {
      "cell_type": "markdown",
      "source": [
        "#### EDUCATION"
      ],
      "metadata": {
        "id": "oe0a_eMlbNmj"
      }
    },
    {
      "cell_type": "code",
      "source": [
        "df['EDUCATION'].value_counts()"
      ],
      "metadata": {
        "id": "cPc4kbila1W9"
      },
      "execution_count": null,
      "outputs": []
    },
    {
      "cell_type": "markdown",
      "source": [
        "#### Education categories 0 is undocumented, 5 and 6 are unknown hence dropping these values"
      ],
      "metadata": {
        "id": "d62rgfaxbpaG"
      }
    },
    {
      "cell_type": "code",
      "source": [
        "df = df.drop(df[df['EDUCATION']==0].index)\n",
        "df = df.drop(df[df['EDUCATION']==5].index)\n",
        "df = df.drop(df[df['EDUCATION']==6].index)"
      ],
      "metadata": {
        "id": "KvQSiM5fb1uR"
      },
      "execution_count": null,
      "outputs": []
    },
    {
      "cell_type": "markdown",
      "source": [
        "##### MARRIAGE"
      ],
      "metadata": {
        "id": "afV8WfEIiYxT"
      }
    },
    {
      "cell_type": "code",
      "source": [
        "df['MARRIAGE'].value_counts()"
      ],
      "metadata": {
        "id": "WZfvUIn2cayx"
      },
      "execution_count": null,
      "outputs": []
    },
    {
      "cell_type": "markdown",
      "source": [
        "##### dropping the values with category 0(not documented) and 3 (others)"
      ],
      "metadata": {
        "id": "kY4Y6rCPizw2"
      }
    },
    {
      "cell_type": "code",
      "source": [
        "df['MARRIAGE']=np.where(df['MARRIAGE'] == 0, 3, df['MARRIAGE'])"
      ],
      "metadata": {
        "id": "H6_P5zP8ca6H"
      },
      "execution_count": null,
      "outputs": []
    },
    {
      "cell_type": "markdown",
      "source": [
        "#### Rename variable 'PAY_0' to 'PAY_1'"
      ],
      "metadata": {
        "id": "43XSmElUarqI"
      }
    },
    {
      "cell_type": "code",
      "source": [
        "df.rename(columns={\"PAY_0\": \"PAY_1\"}, inplace=True)"
      ],
      "metadata": {
        "id": "gs3THTbWja-Z"
      },
      "execution_count": null,
      "outputs": []
    },
    {
      "cell_type": "markdown",
      "source": [
        "##### Rename target variable: 'default.payment.next.month' to 'Default'"
      ],
      "metadata": {
        "id": "0zBPNkuUjw5O"
      }
    },
    {
      "cell_type": "code",
      "source": [
        "df.rename(columns={\"default.payment.next.month\": \"Default\"}, inplace=True)"
      ],
      "metadata": {
        "id": "Wr10mWG0a1eF"
      },
      "execution_count": null,
      "outputs": []
    },
    {
      "cell_type": "markdown",
      "source": [
        "##### Class label to category\n"
      ],
      "metadata": {
        "id": "p-rHrzRUkISE"
      }
    },
    {
      "cell_type": "code",
      "source": [
        "df[\"Default\"] = df[\"Default\"].astype('category')"
      ],
      "metadata": {
        "id": "i5hrTfhOkHVG"
      },
      "execution_count": null,
      "outputs": []
    },
    {
      "cell_type": "code",
      "source": [
        "df.head()"
      ],
      "metadata": {
        "id": "y_dDYM2vjvJf"
      },
      "execution_count": null,
      "outputs": []
    },
    {
      "cell_type": "markdown",
      "source": [
        "#### Exploratory Data Analysis"
      ],
      "metadata": {
        "id": "6YiUL3wKjCQt"
      }
    },
    {
      "cell_type": "code",
      "source": [
        "plt.figure(figsize = (6,6))\n",
        "ax=sns.countplot('Default', data=df, palette=['steelblue','crimson'])\n",
        "for p in ax.patches:\n",
        "    ax.annotate(f'\\n{p.get_height()}', (p.get_x()+0.2, p.get_height()), ha='center', va='top', color='white', size=18)\n",
        "plt.title('Class Distribution Histogram', fontsize=14)\n",
        "plt.xticks([0,1],['Not default','Default'])\n",
        "plt.ylabel('No of samples')\n",
        "plt.xlabel('Target Class')\n",
        "plt.show()"
      ],
      "metadata": {
        "id": "wQjUnyfbXu85"
      },
      "execution_count": null,
      "outputs": []
    },
    {
      "cell_type": "markdown",
      "source": [
        "#### The Target Class distribution is imbalanced the Not Default cases is the majority"
      ],
      "metadata": {
        "id": "FhR2zH3enlGn"
      }
    },
    {
      "cell_type": "code",
      "source": [
        "# 1=graduate school, 2=university, 3=high school 4=others\n",
        "df['EDUCATION'].value_counts().plot(kind='bar', figsize=(10,6))\n",
        "plt.xticks([0,1,2,3],['University','Graduate\\nSchool', 'High\\nSchool', 'Others'],rotation=0)\n",
        "plt.xlabel('Education level')\n",
        "plt.ylabel('No of clients')\n",
        "plt.show()"
      ],
      "metadata": {
        "id": "rA0TuMq4aFUk"
      },
      "execution_count": null,
      "outputs": []
    },
    {
      "cell_type": "code",
      "source": [
        "#  1=married, 2=single, 3=others\n",
        "df['MARRIAGE'].value_counts().plot(kind='bar', figsize=(10,6))\n",
        "plt.xticks([0,1,2,3],['Single','Married', 'Others'],rotation=0)\n",
        "plt.xlabel('Marital Status')\n",
        "plt.ylabel('No of clients')\n",
        "plt.show()"
      ],
      "metadata": {
        "id": "StscP272j40c"
      },
      "execution_count": null,
      "outputs": []
    },
    {
      "cell_type": "code",
      "source": [
        "# 1=graduate school, 2=university, 3=high school 4=others\n",
        "df['EDUCATION'].value_counts().plot(kind='bar', figsize=(10,6))\n",
        "plt.xticks([0,1,2,3],['University','Graduate\\nSchool', 'High\\nSchool', 'Others'],rotation=0)\n",
        "plt.xlabel('Education level')\n",
        "plt.ylabel('No of clients')\n",
        "plt.show()"
      ],
      "metadata": {
        "id": "kPklstq3j44K"
      },
      "execution_count": null,
      "outputs": []
    },
    {
      "cell_type": "code",
      "source": [
        "subset = df[['SEX', 'EDUCATION', 'MARRIAGE', 'PAY_1', 'PAY_2', 'PAY_3', 'PAY_4', 'PAY_5', 'PAY_6', 'Default']]\n",
        "f, axes = plt.subplots(3, 3, figsize=(20, 15), facecolor='white')\n",
        "f.suptitle('FREQUENCY OF CATEGORICAL VARIABLES (BY TARGET)')\n",
        "ax1 = sns.countplot(x=\"SEX\", hue=\"Default\", data=subset, palette=\"Blues\", ax=axes[0,0])\n",
        "ax2 = sns.countplot(x=\"EDUCATION\", hue=\"Default\", data=subset, palette=\"Blues\",ax=axes[0,1])\n",
        "ax3 = sns.countplot(x=\"MARRIAGE\", hue=\"Default\", data=subset, palette=\"Blues\",ax=axes[0,2])\n",
        "ax4 = sns.countplot(x=\"PAY_1\", hue=\"Default\", data=subset, palette=\"Blues\", ax=axes[1,0])\n",
        "ax5 = sns.countplot(x=\"PAY_2\", hue=\"Default\", data=subset, palette=\"Blues\", ax=axes[1,1])\n",
        "ax6 = sns.countplot(x=\"PAY_3\", hue=\"Default\", data=subset, palette=\"Blues\", ax=axes[1,2])\n",
        "ax7 = sns.countplot(x=\"PAY_4\", hue=\"Default\", data=subset, palette=\"Blues\", ax=axes[2,0])\n",
        "ax8 = sns.countplot(x=\"PAY_5\", hue=\"Default\", data=subset, palette=\"Blues\", ax=axes[2,1])\n",
        "ax9 = sns.countplot(x=\"PAY_6\", hue=\"Default\", data=subset, palette=\"Blues\", ax=axes[2,2]);"
      ],
      "metadata": {
        "id": "1xFYPJedj475"
      },
      "execution_count": null,
      "outputs": []
    },
    {
      "cell_type": "code",
      "source": [
        "plt.figure(figsize = (14,6))\n",
        "plt.title('Amount of credit limit - Density Plot')\n",
        "sns.set_color_codes(\"pastel\")\n",
        "sns.distplot(df['LIMIT_BAL'],kde=True,bins=20, color=\"blue\")\n",
        "plt.show()"
      ],
      "metadata": {
        "id": "GlNS-__ap_Jk"
      },
      "execution_count": null,
      "outputs": []
    },
    {
      "cell_type": "code",
      "source": [
        "x1 = list(df[df['Default'] == 1]['LIMIT_BAL'])\n",
        "x2 = list(df[df['Default'] == 0]['LIMIT_BAL'])\n",
        "plt.figure(figsize=(12,4))\n",
        "sns.set_context('notebook', font_scale=1.2)\n",
        "sns.set_color_codes(\"pastel\")\n",
        "plt.hist([x1, x2], bins = 40, color=['steelblue', 'lightblue'])\n",
        "plt.xlim([0,600000])\n",
        "plt.legend(['Yes', 'No'], title = 'Default', loc='upper right', facecolor='white')\n",
        "plt.xlabel('Limit Balance (NT dollar)')\n",
        "plt.ylabel('Frequency')\n",
        "plt.title('LIMIT BALANCE HISTOGRAM BY TYPE OF CREDIT CARD', SIZE=15)\n",
        "plt.box(False)\n",
        "plt.show()"
      ],
      "metadata": {
        "id": "lbC84_Anj4_g"
      },
      "execution_count": null,
      "outputs": []
    },
    {
      "cell_type": "markdown",
      "source": [
        ""
      ],
      "metadata": {
        "id": "1PMb-YdDidmR"
      }
    },
    {
      "cell_type": "code",
      "source": [
        "# Correlation matrix\n",
        "sns.set(style=\"white\", font_scale=1)\n",
        "numeric = ['LIMIT_BAL','AGE','BILL_AMT1','BILL_AMT2','BILL_AMT3', 'BILL_AMT4', 'BILL_AMT5', 'BILL_AMT6', 'PAY_AMT1','PAY_AMT2', 'PAY_AMT3', 'PAY_AMT4', 'PAY_AMT5', 'PAY_AMT6']\n",
        "corr = df[numeric].corr() # .corr is used to find corelation\n",
        "\n",
        "mask = np.triu(np.ones_like(corr, dtype=np.bool))\n",
        "f, ax = plt.subplots(figsize=(20, 13))\n",
        "cmap = sns.diverging_palette(220, 10, as_cmap=True)\n",
        "ax=sns.heatmap(corr, mask=mask, vmax=1, vmin=-1, center=0,\n",
        "            square=True, linewidths=.5, cmap=cmap, cbar_kws={\"shrink\": .5}, annot=True, annot_kws={\"size\": 10})\n",
        "cbar=ax.collections[0].colorbar\n",
        "cbar.set_ticks([-1, -0.50, 0, 0.50, 1])\n",
        "plt.xticks(fontsize=6)\n",
        "plt.yticks(fontsize=10)\n",
        "plt.show()"
      ],
      "metadata": {
        "id": "SzGiR4wArGi9"
      },
      "execution_count": null,
      "outputs": []
    },
    {
      "cell_type": "code",
      "source": [
        "#distribution correlated features -- scatter interaction\n",
        "import matplotlib.patches as mpatches\n",
        "\n",
        "data=df.copy()\n",
        "data_np=data.to_numpy()\n",
        "target=data.Default\n",
        "\n",
        "# variables to \n",
        "BILL_AMT1 = data['BILL_AMT1'].to_numpy()\n",
        "BILL_AMT2 = data['BILL_AMT2'].to_numpy()\n",
        "BILL_AMT3 = data['BILL_AMT3'].to_numpy()\n",
        "BILL_AMT4 = data['BILL_AMT4'].to_numpy()\n",
        "BILL_AMT5 = data['BILL_AMT5'].to_numpy()\n",
        "BILL_AMT6 = data['BILL_AMT6'].to_numpy()\n",
        "AGE = data['AGE'].to_numpy()\n",
        "LIMIT_BAL = data['LIMIT_BAL'].to_numpy()\n",
        "PAY_AMT1 = data['PAY_AMT1'].to_numpy()\n",
        "\n",
        "fig, ax = plt.subplots(1,3, figsize= (15,6))\n",
        "\n",
        "labels=[\"Non Default\",\"Default\"]\n",
        "pop_a = mpatches.Patch(color='steelblue', label='Non Default')\n",
        "pop_b = mpatches.Patch(color='crimson', label='Default')\n",
        "colors=['crimson', 'steelblue']\n",
        "\n",
        "ax[0].scatter(BILL_AMT1, BILL_AMT2, c=target, cmap=matplotlib.colors.ListedColormap(colors), label=labels, alpha=0.5)\n",
        "ax[0].grid()\n",
        "ax[0].set_xlabel('BILL_AMT1')\n",
        "ax[0].set_ylabel('BILL_AMT2')\n",
        "ax[0].legend(handles= [pop_a,pop_b])\n",
        "\n",
        "ax[1].scatter(BILL_AMT2, BILL_AMT3, c=target, cmap=matplotlib.colors.ListedColormap(colors), alpha=0.5)\n",
        "ax[1].grid()\n",
        "ax[1].set_xlabel('BILL_AMT2')\n",
        "ax[1].set_ylabel('BILL_AMT3')\n",
        "ax[1].legend(handles= [pop_a,pop_b])\n",
        "\n",
        "ax[2].scatter(BILL_AMT4,BILL_AMT5, c=target, cmap=matplotlib.colors.ListedColormap(colors), alpha=0.5)\n",
        "ax[2].grid()\n",
        "ax[2].set_xlabel('BILL_AMT4')\n",
        "ax[2].set_ylabel('BILL_AMT5')\n",
        "ax[2].legend(handles= [pop_a,pop_b])\n",
        "\n",
        "plt.tight_layout()# let's make good plots\n",
        "plt.show()"
      ],
      "metadata": {
        "id": "lnX1ei1KrQ5h"
      },
      "execution_count": null,
      "outputs": []
    },
    {
      "cell_type": "code",
      "source": [
        "#distribution un-correlated features -- scatter interaction\n",
        "\n",
        "fig, ax = plt.subplots(1,3, figsize= (15,6))\n",
        "\n",
        "labels=[\"Non Default\",\"Default\"]\n",
        "pop_a = mpatches.Patch(color='steelblue', label='Non Default')\n",
        "pop_b = mpatches.Patch(color='crimson', label='Default')\n",
        "colors=['crimson', 'steelblue']\n",
        "\n",
        "ax[0].scatter(AGE, LIMIT_BAL, c=target, cmap=matplotlib.colors.ListedColormap(colors), label=labels, alpha=0.5)\n",
        "ax[0].grid()\n",
        "ax[0].set_xlabel('AGE')\n",
        "ax[0].set_ylabel('LIMIT_BAL')\n",
        "ax[0].legend(handles= [pop_a,pop_b])\n",
        "\n",
        "ax[1].scatter(AGE, BILL_AMT1, c=target, cmap=matplotlib.colors.ListedColormap(colors), alpha=0.5)\n",
        "ax[1].grid()\n",
        "ax[1].set_xlabel('AGE')\n",
        "ax[1].set_ylabel('BILL_AMT1')\n",
        "ax[1].legend(handles= [pop_a,pop_b])\n",
        "\n",
        "ax[2].scatter(PAY_AMT1,BILL_AMT1, c=target, cmap=matplotlib.colors.ListedColormap(colors), alpha=0.5)\n",
        "ax[2].grid()\n",
        "ax[2].set_xlabel('PAY_AMT1')\n",
        "ax[2].set_ylabel('BILL_AMT1')\n",
        "ax[2].legend(handles= [pop_a,pop_b])\n",
        "\n",
        "plt.tight_layout()# let's make good plots\n",
        "plt.show()"
      ],
      "metadata": {
        "id": "OmuM579irkg9"
      },
      "execution_count": null,
      "outputs": []
    },
    {
      "cell_type": "code",
      "source": [
        "scaler = MinMaxScaler()\n",
        "data['LIMIT_BAL'] = scaler.fit_transform(data['LIMIT_BAL'].values.reshape(-1, 1))\n",
        "data['AGE'] = scaler.fit_transform(data['AGE'].values.reshape(-1, 1))\n",
        "\n",
        "for i in range(1,7):\n",
        "    scaler = MinMaxScaler()\n",
        "    data['PAY_' + str(i)] = scaler.fit_transform(data['PAY_' + str(i)].values.reshape(-1, 1))\n",
        "\n",
        "for i in range(1,7):\n",
        "    scaler = MinMaxScaler()\n",
        "    data['BILL_AMT' + str(i)] = scaler.fit_transform(data['BILL_AMT' + str(i)].values.reshape(-1, 1))\n",
        "\n",
        "for i in range(1,7):\n",
        "    scaler = MinMaxScaler()\n",
        "    data['PAY_AMT' + str(i)] = scaler.fit_transform(data['PAY_AMT' + str(i)].values.reshape(-1, 1))\n",
        "    \n",
        "# BOXPLOT\n",
        "cols = ['LIMIT_BAL','AGE','BILL_AMT1','BILL_AMT2','BILL_AMT3', 'BILL_AMT4', 'BILL_AMT5', 'BILL_AMT6', 'PAY_AMT1','PAY_AMT2', 'PAY_AMT3', 'PAY_AMT4', 'PAY_AMT5', 'PAY_AMT6']\n",
        "\n",
        "fig=plt.figure(1, figsize=(25,15))\n",
        "ax=fig.add_subplot(111)\n",
        "sns.boxplot(data=data[cols])\n",
        "plt.xticks(np.arange(0,14), labels=cols, rotation=25, fontsize=18)\n",
        "plt.yticks(fontsize=18)\n",
        "# plt.title('Boxplot', fontsize= 35)"
      ],
      "metadata": {
        "id": "_R7N4kNXr3Ax"
      },
      "execution_count": null,
      "outputs": []
    },
    {
      "cell_type": "code",
      "source": [
        "# Standard Scaler\n",
        "from sklearn.preprocessing import StandardScaler\n",
        "scaler = StandardScaler()\n",
        "scaled_data = scaler.fit_transform(data)\n",
        "\n",
        "# BOXPLOT\n",
        "cols = ['LIMIT_BAL','AGE','BILL_AMT1','BILL_AMT2','BILL_AMT3', 'BILL_AMT4', 'BILL_AMT5', 'BILL_AMT6', 'PAY_AMT1','PAY_AMT2', 'PAY_AMT3', 'PAY_AMT4', 'PAY_AMT5', 'PAY_AMT6']\n",
        "\n",
        "fig=plt.figure(1, figsize=(25,15))\n",
        "ax=fig.add_subplot(111)\n",
        "sns.boxplot(data=scaled_data[:,:-10])\n",
        "plt.xticks(np.arange(0,14), labels=cols, rotation=25, fontsize=18)\n",
        "plt.yticks(fontsize=18)\n",
        "plt.title('Boxplot', fontsize= 35)"
      ],
      "metadata": {
        "id": "n09FUaQZsLTL"
      },
      "execution_count": null,
      "outputs": []
    },
    {
      "cell_type": "markdown",
      "source": [
        "#### Encoding`"
      ],
      "metadata": {
        "id": "pgqUMUZPsxox"
      }
    },
    {
      "cell_type": "markdown",
      "source": [
        "**SEX,EDUCATION, MARRIAGE are categorical variables since sex is a binary categorical variable it is label encoded.**\n"
      ],
      "metadata": {
        "id": "MKhQ5frrtIna"
      }
    },
    {
      "cell_type": "code",
      "source": [
        "df['SEX']=df['SEX'].replace({2:0}) #female to 0"
      ],
      "metadata": {
        "id": "uH5z3k1ptw45"
      },
      "execution_count": null,
      "outputs": []
    },
    {
      "cell_type": "code",
      "source": [
        "df['SEX'].value_counts()"
      ],
      "metadata": {
        "id": "xP2UY2GRt72j"
      },
      "execution_count": null,
      "outputs": []
    },
    {
      "cell_type": "markdown",
      "source": [
        "\n",
        "**EDUCATION and  MARRIAGE being nominal categorical variable we perform one hot encoding**"
      ],
      "metadata": {
        "id": "8tDsjL3huISZ"
      }
    },
    {
      "cell_type": "code",
      "source": [
        "df = pd.get_dummies(df, columns=['EDUCATION'])\n",
        "df = pd.get_dummies(df, columns=['MARRIAGE'])"
      ],
      "metadata": {
        "id": "icNkFggjsWRC"
      },
      "execution_count": null,
      "outputs": []
    },
    {
      "cell_type": "code",
      "source": [
        "df.head()"
      ],
      "metadata": {
        "id": "t1CcEsdLuP00"
      },
      "execution_count": null,
      "outputs": []
    },
    {
      "cell_type": "markdown",
      "source": [
        "#### Rearranging column positions for better readability"
      ],
      "metadata": {
        "id": "fTJ7p_3EuvzQ"
      }
    },
    {
      "cell_type": "code",
      "source": [
        "df=df[['LIMIT_BAL', 'SEX', 'EDUCATION_1',\n",
        "       'EDUCATION_2', 'EDUCATION_3', 'EDUCATION_4', 'MARRIAGE_1', 'MARRIAGE_2',\n",
        "       'MARRIAGE_3', 'AGE', 'PAY_1', 'PAY_2', 'PAY_3', 'PAY_4', 'PAY_5',\n",
        "       'PAY_6', 'BILL_AMT1', 'BILL_AMT2', 'BILL_AMT3', 'BILL_AMT4',\n",
        "       'BILL_AMT5', 'BILL_AMT6', 'PAY_AMT1', 'PAY_AMT2', 'PAY_AMT3',\n",
        "       'PAY_AMT4', 'PAY_AMT5', 'PAY_AMT6', 'Default']]"
      ],
      "metadata": {
        "id": "WulrA7hIuRTc"
      },
      "execution_count": null,
      "outputs": []
    },
    {
      "cell_type": "code",
      "source": [
        "df.head()"
      ],
      "metadata": {
        "id": "cLzHBLnvu3Ps"
      },
      "execution_count": null,
      "outputs": []
    },
    {
      "cell_type": "markdown",
      "source": [
        "\n",
        "## Separating features and target"
      ],
      "metadata": {
        "id": "T7_f7hkjvLk3"
      }
    },
    {
      "cell_type": "code",
      "source": [
        "X = df.drop('Default', axis = 1, inplace = False)\n",
        "y = df.Default     # target default=1 or non-default=0"
      ],
      "metadata": {
        "id": "s_jBMUcdu7IS"
      },
      "execution_count": null,
      "outputs": []
    },
    {
      "cell_type": "markdown",
      "source": [
        "## Check data set dimension"
      ],
      "metadata": {
        "id": "ZhPKMqJkvWSu"
      }
    },
    {
      "cell_type": "code",
      "source": [
        "print(X.shape)\n",
        "print(\"Number of samples:\", X.shape[0])\n",
        "print(\"Number of attributes:\", X.shape[1])"
      ],
      "metadata": {
        "id": "zNo898JKvSJD"
      },
      "execution_count": null,
      "outputs": []
    },
    {
      "cell_type": "markdown",
      "source": [
        "### Train Test Split"
      ],
      "metadata": {
        "id": "4W-Mn40GvkXz"
      }
    },
    {
      "cell_type": "code",
      "source": [
        "from sklearn.model_selection import train_test_split\n",
        "X_train_val, X_test, y_train_val, y_test = train_test_split(X, y, test_size=0.25, random_state=24, stratify=y)"
      ],
      "metadata": {
        "id": "KI4TasJrvdIP"
      },
      "execution_count": null,
      "outputs": []
    },
    {
      "cell_type": "code",
      "source": [
        "# Check dimensions\n",
        "print(np.shape(X_train_val))\n",
        "print(np.shape(X_test))\n",
        "\n",
        "print(\"Training set:\")\n",
        "print(f\" + Non-defaulters (y=0): {len(y_train_val[y_train_val==0])}\")\n",
        "print(f\" + Defaulters (y=1):\\t {len(y_train_val[y_train_val==1])}\")\n",
        "\n",
        "print(\"Test set:\")\n",
        "print(f\" + Non-defaulters (y=0): {len(y_test[y_test==0])}\")\n",
        "print(f\" + Defaulters (y=1):\\t {len(y_test[y_test==1])}\")"
      ],
      "metadata": {
        "id": "FKWI_cClv_sp"
      },
      "execution_count": null,
      "outputs": []
    },
    {
      "cell_type": "code",
      "source": [
        "# remove features with correlation coefficent >= 0.93\n",
        "upper = corr.where(np.triu(np.ones(corr.shape), k=1).astype(np.bool))\n",
        "to_drop = [column for column in upper.columns if any(upper[column] >= 0.92)]\n",
        "print(to_drop) \n",
        "df= df.drop(df[to_drop], axis = 1)"
      ],
      "metadata": {
        "id": "7ogK5_ebwCz8"
      },
      "execution_count": null,
      "outputs": []
    },
    {
      "cell_type": "code",
      "source": [
        "from sklearn.decomposition import PCA\n",
        "\n",
        "print(f\"Actual number of components: {len(X_train_val.columns.values)}\")\n",
        "\n",
        "n_pc = len(X_train_val.columns.values) # with n_components = 11 -> 0.98693009 variance explained\n",
        "\n",
        "pca = PCA(n_components=n_pc)\n",
        "pca.fit(X_train_val)\n",
        "\n",
        "\n",
        "fig=plt.figure(1, figsize=(10,5))\n",
        "plt.grid(b=True, which='major', axis='both')\n",
        "plt.plot(pca.explained_variance_ratio_, marker='o', color='#20c8b8')\n",
        "plt.plot(np.cumsum(pca.explained_variance_ratio_), marker='o', color='#e8a000')\n",
        "# plt.xticks([n for n in range(0,n_pc)], [ \"PC\"+str(n) for n in range(1,n_pc+1)])\n",
        "plt.legend([\"Variance explained by a single component\", \"Cumulative variance explained\"])\n",
        "plt.xlabel('Number of principal components')\n",
        "plt.ylabel('Variance Explained')\n",
        "plt.savefig(\"PCA\");"
      ],
      "metadata": {
        "id": "M_l9xtkNwahB"
      },
      "execution_count": null,
      "outputs": []
    },
    {
      "cell_type": "code",
      "source": [
        "n_pc = 12\n",
        "pca = PCA(n_components=n_pc)\n",
        "pca.fit(X_train_val)\n",
        "X_train_val.index = pd.RangeIndex(start=0, stop=len(X_train_val), step=1)\n",
        "X_12d_train_val = pd.DataFrame(pca.transform(X_train_val))\n",
        "X_12d_test = pd.DataFrame(pca.transform(X_test))\n",
        "X_12d_train_val.columns = ['PC' + str(i) for i in range(1, n_pc+1) ]\n",
        "X_12d_test.columns = ['PC' + str(i) for i in range(1, n_pc+1) ]\n",
        "X_12d_train_val.head()"
      ],
      "metadata": {
        "id": "1vmNV-o6wpBV"
      },
      "execution_count": null,
      "outputs": []
    },
    {
      "cell_type": "code",
      "source": [
        "import imblearn \n",
        "from imblearn.over_sampling import SMOTE\n",
        "from imblearn.under_sampling import ClusterCentroids\n",
        "from imblearn.pipeline import make_pipeline\n",
        "\n",
        "import sklearn.ensemble\n",
        "from sklearn.discriminant_analysis import LinearDiscriminantAnalysis\n",
        "from sklearn.model_selection import StratifiedKFold\n",
        "from sklearn.ensemble import RandomForestClassifier\n",
        "from sklearn.model_selection import cross_val_score\n",
        "from sklearn.model_selection import GridSearchCV\n",
        "from sklearn.tree import DecisionTreeClassifier\n",
        "from sklearn.svm import SVC, LinearSVC\n",
        "from sklearn.metrics import f1_score, make_scorer, precision_score, recall_score, accuracy_score, plot_confusion_matrix\n",
        "from sklearn.svm import LinearSVC, SVC\n",
        "from sklearn.neighbors import KNeighborsClassifier\n",
        "from sklearn.linear_model import LogisticRegression\n",
        "\n",
        "\n",
        "# PARAMETER CLASSIFICATION\n",
        "ALGORITHM = 'LogisticRegression' # 'RandomForest', 'LogisticRegression', 'LDA', 'KNN'\n",
        "APPLY_OVERSAMPLING = False\n",
        "APPLY_UNDERSAMPLING = True\n",
        "\n",
        "if APPLY_OVERSAMPLING:\n",
        "    APPLY_UNDERSAMPLING = False\n",
        "    \n",
        "if APPLY_UNDERSAMPLING:\n",
        "    APPLY_OVERSAMPLING = Falseimport imblearn \n",
        "from imblearn.over_sampling import SMOTE\n",
        "from imblearn.under_sampling import ClusterCentroids\n",
        "from imblearn.pipeline import make_pipeline\n",
        "\n",
        "import sklearn.ensemble\n",
        "from sklearn.discriminant_analysis import LinearDiscriminantAnalysis\n",
        "from sklearn.model_selection import StratifiedKFold\n",
        "from sklearn.ensemble import RandomForestClassifier\n",
        "from sklearn.model_selection import cross_val_score\n",
        "from sklearn.model_selection import GridSearchCV\n",
        "from sklearn.tree import DecisionTreeClassifier\n",
        "from sklearn.svm import SVC, LinearSVC\n",
        "from sklearn.metrics import f1_score, make_scorer, precision_score, recall_score, accuracy_score, plot_confusion_matrix\n",
        "from sklearn.svm import LinearSVC, SVC\n",
        "from sklearn.neighbors import KNeighborsClassifier\n",
        "from sklearn.linear_model import LogisticRegression\n",
        "\n",
        "\n",
        "# PARAMETER CLASSIFICATION\n",
        "ALGORITHM = 'LogisticRegression' # 'RandomForest', 'LogisticRegression', 'LDA', 'KNN'\n",
        "APPLY_OVERSAMPLING = False\n",
        "APPLY_UNDERSAMPLING = True\n",
        "\n",
        "if APPLY_OVERSAMPLING:\n",
        "    APPLY_UNDERSAMPLING = False\n",
        "    \n",
        "if APPLY_UNDERSAMPLING:\n",
        "    APPLY_OVERSAMPLING = False"
      ],
      "metadata": {
        "id": "lX_GDlFywt4t"
      },
      "execution_count": null,
      "outputs": []
    },
    {
      "cell_type": "code",
      "source": [
        ""
      ],
      "metadata": {
        "id": "_O7dYy8yHH8e"
      },
      "execution_count": null,
      "outputs": []
    },
    {
      "cell_type": "code",
      "source": [
        ""
      ],
      "metadata": {
        "id": "TAE1T4KVHH2j"
      },
      "execution_count": null,
      "outputs": []
    },
    {
      "cell_type": "code",
      "source": [
        ""
      ],
      "metadata": {
        "id": "fRq6uM4kHHyt"
      },
      "execution_count": null,
      "outputs": []
    },
    {
      "cell_type": "code",
      "source": [
        ""
      ],
      "metadata": {
        "id": "lKx3ZwPwHHuv"
      },
      "execution_count": null,
      "outputs": []
    }
  ]
}